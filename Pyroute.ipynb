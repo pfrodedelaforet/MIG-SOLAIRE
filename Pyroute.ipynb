{
 "cells": [
  {
   "cell_type": "code",
   "execution_count": 1,
   "metadata": {},
   "outputs": [],
   "source": [
    "from pyroutelib3 import Router, Datastore # Import the router\n",
    "router = Router(\"cycle\", \"C:/Users/pfrod/OneDrive/Documents/1A mines de paris/MIG/carte_test.osm\") # Initialise it\n"
   ]
  },
  {
   "cell_type": "code",
   "execution_count": null,
   "metadata": {},
   "outputs": [],
   "source": []
  },
  {
   "cell_type": "code",
   "execution_count": 2,
   "metadata": {},
   "outputs": [],
   "source": [
    "start = router.findNode(43.7006971, 7.2587751) # Find start and end nodes\n",
    "end = router.findNode(43.700561, 7.2599291)"
   ]
  },
  {
   "cell_type": "code",
   "execution_count": 3,
   "metadata": {},
   "outputs": [],
   "source": [
    "status, route = router.doRoute(start, end) # Find the route - a list of OSM nodes\n"
   ]
  },
  {
   "cell_type": "code",
   "execution_count": 4,
   "metadata": {},
   "outputs": [
    {
     "data": {
      "text/plain": [
       "'success'"
      ]
     },
     "execution_count": 4,
     "metadata": {},
     "output_type": "execute_result"
    }
   ],
   "source": [
    "status"
   ]
  },
  {
   "cell_type": "code",
   "execution_count": 5,
   "metadata": {},
   "outputs": [
    {
     "data": {
      "text/plain": [
       "[564661114,\n",
       " 3667118231,\n",
       " 273485738,\n",
       " 1556416769,\n",
       " 1556416745,\n",
       " 273485740,\n",
       " 1701090176,\n",
       " 311258859,\n",
       " 24343181,\n",
       " 311258915,\n",
       " 311258917]"
      ]
     },
     "execution_count": 5,
     "metadata": {},
     "output_type": "execute_result"
    }
   ],
   "source": [
    "route"
   ]
  },
  {
   "cell_type": "code",
   "execution_count": 6,
   "metadata": {},
   "outputs": [
    {
     "data": {
      "text/plain": [
       "[(43.7006972, 7.2587752),\n",
       " (43.7006331, 7.258767),\n",
       " (43.700484, 7.2587479),\n",
       " (43.7004658, 7.2587252),\n",
       " (43.7004336, 7.258622),\n",
       " (43.7004036, 7.2586002),\n",
       " (43.6996616, 7.2584458),\n",
       " (43.6995896, 7.2584263),\n",
       " (43.6995951, 7.259249),\n",
       " (43.6995986, 7.2597091),\n",
       " (43.700563, 7.2599293)]"
      ]
     },
     "execution_count": 6,
     "metadata": {},
     "output_type": "execute_result"
    }
   ],
   "source": [
    "list(map(router.nodeLatLon, route))"
   ]
  },
  {
   "cell_type": "code",
   "execution_count": 57,
   "metadata": {},
   "outputs": [
    {
     "data": {
      "text/plain": [
       "{point de latitude 43.7006972, de longitude 7.258775199999395, d'altitude 17, x=5986987.626214701, y=3323340.3211777466 : {point de latitude 43.70063309999998, de longitude 7.258766999999393, d'altitude 17, x=5986980.600304716, y=3323335.0587997627 : 15.72995340014509,\n",
       "  point de latitude 43.70048400000001, de longitude 7.258747899999396, d'altitude 17, x=5986964.259413862, y=3323322.8151289853 : 52.319089129213424,\n",
       "  point de latitude 43.7004658, de longitude 7.258725199999401, d'altitude 17, x=5986963.630493745, y=3323318.909852059 : 58.30735606632868,\n",
       "  point de latitude 43.7004336, de longitude 7.258621999999392, d'altitude 17, x=5986966.744619365, y=3323304.53950461 : 78.16396438658691,\n",
       "  point de latitude 43.700403599999994, de longitude 7.258600199999402, d'altitude 17, x=5986964.660746019, y=3323299.950669517 : 86.44463923818674,\n",
       "  point de latitude 43.6996616, de longitude 7.2584457999994, d'altitude 17, x=5986887.318605102, y=3323231.99580086 : 269.7957545683632,\n",
       "  point de latitude 43.69958960000001, de longitude 7.2584262999994, d'altitude 17, x=5986880.116585376, y=3323224.867115265 : 287.7233542693027,\n",
       "  point de latitude 43.69959510000001, de longitude 7.2592489999994285, d'altitude 17, x=5986825.604359345, y=3323322.607624295 : 433.0688357220296,\n",
       "  point de latitude 43.6995986, de longitude 7.259709099999401, d'altitude 17, x=5986795.168385977, y=3323377.2976276344 : 514.3552021456474,\n",
       "  point de latitude 43.700562999999995, de longitude 7.2599292999993885, d'altitude 17, x=5986894.381645997, y=3323467.929806293 : 753.1996200887476},\n",
       " point de latitude 43.70063309999998, de longitude 7.258766999999393, d'altitude 17, x=5986980.600304716, y=3323335.0587997627 : {point de latitude 43.7006972, de longitude 7.258775199999395, d'altitude 17, x=5986987.626214701, y=3323340.3211777466 : 943.9715355426528,\n",
       "  point de latitude 43.70048400000001, de longitude 7.258747899999396, d'altitude 17, x=5986964.259413862, y=3323322.8151289853 : 36.58913572906833,\n",
       "  point de latitude 43.7004658, de longitude 7.258725199999401, d'altitude 17, x=5986963.630493745, y=3323318.909852059 : 42.57740266618359,\n",
       "  point de latitude 43.7004336, de longitude 7.258621999999392, d'altitude 17, x=5986966.744619365, y=3323304.53950461 : 62.43401098644182,\n",
       "  point de latitude 43.700403599999994, de longitude 7.258600199999402, d'altitude 17, x=5986964.660746019, y=3323299.950669517 : 70.71468583804165,\n",
       "  point de latitude 43.6996616, de longitude 7.2584457999994, d'altitude 17, x=5986887.318605102, y=3323231.99580086 : 254.0658011682181,\n",
       "  point de latitude 43.69958960000001, de longitude 7.2584262999994, d'altitude 17, x=5986880.116585376, y=3323224.867115265 : 271.9934008691576,\n",
       "  point de latitude 43.69959510000001, de longitude 7.2592489999994285, d'altitude 17, x=5986825.604359345, y=3323322.607624295 : 417.3388823218845,\n",
       "  point de latitude 43.6995986, de longitude 7.259709099999401, d'altitude 17, x=5986795.168385977, y=3323377.2976276344 : 498.62524874550223,\n",
       "  point de latitude 43.700562999999995, de longitude 7.2599292999993885, d'altitude 17, x=5986894.381645997, y=3323467.929806293 : 737.4696666886025},\n",
       " point de latitude 43.70048400000001, de longitude 7.258747899999396, d'altitude 17, x=5986964.259413862, y=3323322.8151289853 : {point de latitude 43.7006972, de longitude 7.258775199999395, d'altitude 17, x=5986987.626214701, y=3323340.3211777466 : 907.3823998135844,\n",
       "  point de latitude 43.70063309999998, de longitude 7.258766999999393, d'altitude 17, x=5986980.600304716, y=3323335.0587997627 : 923.1123532137295,\n",
       "  point de latitude 43.7004658, de longitude 7.258725199999401, d'altitude 17, x=5986963.630493745, y=3323318.909852059 : 5.988266937115256,\n",
       "  point de latitude 43.7004336, de longitude 7.258621999999392, d'altitude 17, x=5986966.744619365, y=3323304.53950461 : 25.844875257373488,\n",
       "  point de latitude 43.700403599999994, de longitude 7.258600199999402, d'altitude 17, x=5986964.660746019, y=3323299.950669517 : 34.12555010897332,\n",
       "  point de latitude 43.6996616, de longitude 7.2584457999994, d'altitude 17, x=5986887.318605102, y=3323231.99580086 : 217.47666543914977,\n",
       "  point de latitude 43.69958960000001, de longitude 7.2584262999994, d'altitude 17, x=5986880.116585376, y=3323224.867115265 : 235.40426514008925,\n",
       "  point de latitude 43.69959510000001, de longitude 7.2592489999994285, d'altitude 17, x=5986825.604359345, y=3323322.607624295 : 380.7497465928162,\n",
       "  point de latitude 43.6995986, de longitude 7.259709099999401, d'altitude 17, x=5986795.168385977, y=3323377.2976276344 : 462.03611301643394,\n",
       "  point de latitude 43.700562999999995, de longitude 7.2599292999993885, d'altitude 17, x=5986894.381645997, y=3323467.929806293 : 700.8805309595341},\n",
       " point de latitude 43.7004658, de longitude 7.258725199999401, d'altitude 17, x=5986963.630493745, y=3323318.909852059 : {point de latitude 43.7006972, de longitude 7.258775199999395, d'altitude 17, x=5986987.626214701, y=3323340.3211777466 : 901.3941328764693,\n",
       "  point de latitude 43.70063309999998, de longitude 7.258766999999393, d'altitude 17, x=5986980.600304716, y=3323335.0587997627 : 917.1240862766143,\n",
       "  point de latitude 43.70048400000001, de longitude 7.258747899999396, d'altitude 17, x=5986964.259413862, y=3323322.8151289853 : 953.7132220056826,\n",
       "  point de latitude 43.7004336, de longitude 7.258621999999392, d'altitude 17, x=5986966.744619365, y=3323304.53950461 : 19.856608320258232,\n",
       "  point de latitude 43.700403599999994, de longitude 7.258600199999402, d'altitude 17, x=5986964.660746019, y=3323299.950669517 : 28.137283171858066,\n",
       "  point de latitude 43.6996616, de longitude 7.2584457999994, d'altitude 17, x=5986887.318605102, y=3323231.99580086 : 211.4883985020345,\n",
       "  point de latitude 43.69958960000001, de longitude 7.2584262999994, d'altitude 17, x=5986880.116585376, y=3323224.867115265 : 229.41599820297404,\n",
       "  point de latitude 43.69959510000001, de longitude 7.2592489999994285, d'altitude 17, x=5986825.604359345, y=3323322.607624295 : 374.76147965570095,\n",
       "  point de latitude 43.6995986, de longitude 7.259709099999401, d'altitude 17, x=5986795.168385977, y=3323377.2976276344 : 456.04784607931873,\n",
       "  point de latitude 43.700562999999995, de longitude 7.2599292999993885, d'altitude 17, x=5986894.381645997, y=3323467.929806293 : 694.8922640224189},\n",
       " point de latitude 43.7004336, de longitude 7.258621999999392, d'altitude 17, x=5986966.744619365, y=3323304.53950461 : {point de latitude 43.7006972, de longitude 7.258775199999395, d'altitude 17, x=5986987.626214701, y=3323340.3211777466 : 881.537524556211,\n",
       "  point de latitude 43.70063309999998, de longitude 7.258766999999393, d'altitude 17, x=5986980.600304716, y=3323335.0587997627 : 897.2674779563561,\n",
       "  point de latitude 43.70048400000001, de longitude 7.258747899999396, d'altitude 17, x=5986964.259413862, y=3323322.8151289853 : 933.8566136854243,\n",
       "  point de latitude 43.7004658, de longitude 7.258725199999401, d'altitude 17, x=5986963.630493745, y=3323318.909852059 : 939.8448806225397,\n",
       "  point de latitude 43.700403599999994, de longitude 7.258600199999402, d'altitude 17, x=5986964.660746019, y=3323299.950669517 : 8.280674851599832,\n",
       "  point de latitude 43.6996616, de longitude 7.2584457999994, d'altitude 17, x=5986887.318605102, y=3323231.99580086 : 191.63179018177627,\n",
       "  point de latitude 43.69958960000001, de longitude 7.2584262999994, d'altitude 17, x=5986880.116585376, y=3323224.867115265 : 209.55938988271578,\n",
       "  point de latitude 43.69959510000001, de longitude 7.2592489999994285, d'altitude 17, x=5986825.604359345, y=3323322.607624295 : 354.9048713354427,\n",
       "  point de latitude 43.6995986, de longitude 7.259709099999401, d'altitude 17, x=5986795.168385977, y=3323377.2976276344 : 436.19123775906047,\n",
       "  point de latitude 43.700562999999995, de longitude 7.2599292999993885, d'altitude 17, x=5986894.381645997, y=3323467.929806293 : 675.0356557021607},\n",
       " point de latitude 43.700403599999994, de longitude 7.258600199999402, d'altitude 17, x=5986964.660746019, y=3323299.950669517 : {point de latitude 43.7006972, de longitude 7.258775199999395, d'altitude 17, x=5986987.626214701, y=3323340.3211777466 : 873.2568497046111,\n",
       "  point de latitude 43.70063309999998, de longitude 7.258766999999393, d'altitude 17, x=5986980.600304716, y=3323335.0587997627 : 888.9868031047562,\n",
       "  point de latitude 43.70048400000001, de longitude 7.258747899999396, d'altitude 17, x=5986964.259413862, y=3323322.8151289853 : 925.5759388338245,\n",
       "  point de latitude 43.7004658, de longitude 7.258725199999401, d'altitude 17, x=5986963.630493745, y=3323318.909852059 : 931.5642057709397,\n",
       "  point de latitude 43.7004336, de longitude 7.258621999999392, d'altitude 17, x=5986966.744619365, y=3323304.53950461 : 951.4208140911979,\n",
       "  point de latitude 43.6996616, de longitude 7.2584457999994, d'altitude 17, x=5986887.318605102, y=3323231.99580086 : 183.3511153301764,\n",
       "  point de latitude 43.69958960000001, de longitude 7.2584262999994, d'altitude 17, x=5986880.116585376, y=3323224.867115265 : 201.27871503111595,\n",
       "  point de latitude 43.69959510000001, de longitude 7.2592489999994285, d'altitude 17, x=5986825.604359345, y=3323322.607624295 : 346.6241964838428,\n",
       "  point de latitude 43.6995986, de longitude 7.259709099999401, d'altitude 17, x=5986795.168385977, y=3323377.2976276344 : 427.91056290746064,\n",
       "  point de latitude 43.700562999999995, de longitude 7.2599292999993885, d'altitude 17, x=5986894.381645997, y=3323467.929806293 : 666.7549808505607},\n",
       " point de latitude 43.6996616, de longitude 7.2584457999994, d'altitude 17, x=5986887.318605102, y=3323231.99580086 : {point de latitude 43.7006972, de longitude 7.258775199999395, d'altitude 17, x=5986987.626214701, y=3323340.3211777466 : 689.9057343744347,\n",
       "  point de latitude 43.70063309999998, de longitude 7.258766999999393, d'altitude 17, x=5986980.600304716, y=3323335.0587997627 : 705.6356877745797,\n",
       "  point de latitude 43.70048400000001, de longitude 7.258747899999396, d'altitude 17, x=5986964.259413862, y=3323322.8151289853 : 742.224823503648,\n",
       "  point de latitude 43.7004658, de longitude 7.258725199999401, d'altitude 17, x=5986963.630493745, y=3323318.909852059 : 748.2130904407633,\n",
       "  point de latitude 43.7004336, de longitude 7.258621999999392, d'altitude 17, x=5986966.744619365, y=3323304.53950461 : 768.0696987610215,\n",
       "  point de latitude 43.700403599999994, de longitude 7.258600199999402, d'altitude 17, x=5986964.660746019, y=3323299.950669517 : 776.3503736126212,\n",
       "  point de latitude 43.69958960000001, de longitude 7.2584262999994, d'altitude 17, x=5986880.116585376, y=3323224.867115265 : 17.927599700939503,\n",
       "  point de latitude 43.69959510000001, de longitude 7.2592489999994285, d'altitude 17, x=5986825.604359345, y=3323322.607624295 : 163.2730811536664,\n",
       "  point de latitude 43.6995986, de longitude 7.259709099999401, d'altitude 17, x=5986795.168385977, y=3323377.2976276344 : 244.5594475772842,\n",
       "  point de latitude 43.700562999999995, de longitude 7.2599292999993885, d'altitude 17, x=5986894.381645997, y=3323467.929806293 : 483.40386552038433},\n",
       " point de latitude 43.69958960000001, de longitude 7.2584262999994, d'altitude 17, x=5986880.116585376, y=3323224.867115265 : {point de latitude 43.7006972, de longitude 7.258775199999395, d'altitude 17, x=5986987.626214701, y=3323340.3211777466 : 671.9781346734951,\n",
       "  point de latitude 43.70063309999998, de longitude 7.258766999999393, d'altitude 17, x=5986980.600304716, y=3323335.0587997627 : 687.7080880736402,\n",
       "  point de latitude 43.70048400000001, de longitude 7.258747899999396, d'altitude 17, x=5986964.259413862, y=3323322.8151289853 : 724.2972238027085,\n",
       "  point de latitude 43.7004658, de longitude 7.258725199999401, d'altitude 17, x=5986963.630493745, y=3323318.909852059 : 730.2854907398238,\n",
       "  point de latitude 43.7004336, de longitude 7.258621999999392, d'altitude 17, x=5986966.744619365, y=3323304.53950461 : 750.1420990600819,\n",
       "  point de latitude 43.700403599999994, de longitude 7.258600199999402, d'altitude 17, x=5986964.660746019, y=3323299.950669517 : 758.4227739116817,\n",
       "  point de latitude 43.6996616, de longitude 7.2584457999994, d'altitude 17, x=5986887.318605102, y=3323231.99580086 : 941.7738892418582,\n",
       "  point de latitude 43.69959510000001, de longitude 7.2592489999994285, d'altitude 17, x=5986825.604359345, y=3323322.607624295 : 145.34548145272691,\n",
       "  point de latitude 43.6995986, de longitude 7.259709099999401, d'altitude 17, x=5986795.168385977, y=3323377.2976276344 : 226.6318478763447,\n",
       "  point de latitude 43.700562999999995, de longitude 7.2599292999993885, d'altitude 17, x=5986894.381645997, y=3323467.929806293 : 465.47626581944485},\n",
       " point de latitude 43.69959510000001, de longitude 7.2592489999994285, d'altitude 17, x=5986825.604359345, y=3323322.607624295 : {point de latitude 43.7006972, de longitude 7.258775199999395, d'altitude 17, x=5986987.626214701, y=3323340.3211777466 : 526.6326532207681,\n",
       "  point de latitude 43.70063309999998, de longitude 7.258766999999393, d'altitude 17, x=5986980.600304716, y=3323335.0587997627 : 542.3626066209133,\n",
       "  point de latitude 43.70048400000001, de longitude 7.258747899999396, d'altitude 17, x=5986964.259413862, y=3323322.8151289853 : 578.9517423499816,\n",
       "  point de latitude 43.7004658, de longitude 7.258725199999401, d'altitude 17, x=5986963.630493745, y=3323318.909852059 : 584.9400092870969,\n",
       "  point de latitude 43.7004336, de longitude 7.258621999999392, d'altitude 17, x=5986966.744619365, y=3323304.53950461 : 604.7966176073551,\n",
       "  point de latitude 43.700403599999994, de longitude 7.258600199999402, d'altitude 17, x=5986964.660746019, y=3323299.950669517 : 613.077292458955,\n",
       "  point de latitude 43.6996616, de longitude 7.2584457999994, d'altitude 17, x=5986887.318605102, y=3323231.99580086 : 796.4284077891314,\n",
       "  point de latitude 43.69958960000001, de longitude 7.2584262999994, d'altitude 17, x=5986880.116585376, y=3323224.867115265 : 814.3560074900709,\n",
       "  point de latitude 43.6995986, de longitude 7.259709099999401, d'altitude 17, x=5986795.168385977, y=3323377.2976276344 : 81.28636642361778,\n",
       "  point de latitude 43.700562999999995, de longitude 7.2599292999993885, d'altitude 17, x=5986894.381645997, y=3323467.929806293 : 320.1307843667179},\n",
       " point de latitude 43.6995986, de longitude 7.259709099999401, d'altitude 17, x=5986795.168385977, y=3323377.2976276344 : {point de latitude 43.7006972, de longitude 7.258775199999395, d'altitude 17, x=5986987.626214701, y=3323340.3211777466 : 445.34628679715036,\n",
       "  point de latitude 43.70063309999998, de longitude 7.258766999999393, d'altitude 17, x=5986980.600304716, y=3323335.0587997627 : 461.0762401972955,\n",
       "  point de latitude 43.70048400000001, de longitude 7.258747899999396, d'altitude 17, x=5986964.259413862, y=3323322.8151289853 : 497.66537592636377,\n",
       "  point de latitude 43.7004658, de longitude 7.258725199999401, d'altitude 17, x=5986963.630493745, y=3323318.909852059 : 503.6536428634791,\n",
       "  point de latitude 43.7004336, de longitude 7.258621999999392, d'altitude 17, x=5986966.744619365, y=3323304.53950461 : 523.5102511837373,\n",
       "  point de latitude 43.700403599999994, de longitude 7.258600199999402, d'altitude 17, x=5986964.660746019, y=3323299.950669517 : 531.7909260353372,\n",
       "  point de latitude 43.6996616, de longitude 7.2584457999994, d'altitude 17, x=5986887.318605102, y=3323231.99580086 : 715.1420413655136,\n",
       "  point de latitude 43.69958960000001, de longitude 7.2584262999994, d'altitude 17, x=5986880.116585376, y=3323224.867115265 : 733.0696410664531,\n",
       "  point de latitude 43.69959510000001, de longitude 7.2592489999994285, d'altitude 17, x=5986825.604359345, y=3323322.607624295 : 582.5202075441025,\n",
       "  point de latitude 43.700562999999995, de longitude 7.2599292999993885, d'altitude 17, x=5986894.381645997, y=3323467.929806293 : 238.84441794310015},\n",
       " point de latitude 43.700562999999995, de longitude 7.2599292999993885, d'altitude 17, x=5986894.381645997, y=3323467.929806293 : {point de latitude 43.7006972, de longitude 7.258775199999395, d'altitude 17, x=5986987.626214701, y=3323340.3211777466 : 206.5018688540502,\n",
       "  point de latitude 43.70063309999998, de longitude 7.258766999999393, d'altitude 17, x=5986980.600304716, y=3323335.0587997627 : 222.2318222541953,\n",
       "  point de latitude 43.70048400000001, de longitude 7.258747899999396, d'altitude 17, x=5986964.259413862, y=3323322.8151289853 : 258.8209579832636,\n",
       "  point de latitude 43.7004658, de longitude 7.258725199999401, d'altitude 17, x=5986963.630493745, y=3323318.909852059 : 264.8092249203789,\n",
       "  point de latitude 43.7004336, de longitude 7.258621999999392, d'altitude 17, x=5986966.744619365, y=3323304.53950461 : 284.6658332406371,\n",
       "  point de latitude 43.700403599999994, de longitude 7.258600199999402, d'altitude 17, x=5986964.660746019, y=3323299.950669517 : 292.9465080922369,\n",
       "  point de latitude 43.6996616, de longitude 7.2584457999994, d'altitude 17, x=5986887.318605102, y=3323231.99580086 : 476.2976234224134,\n",
       "  point de latitude 43.69958960000001, de longitude 7.2584262999994, d'altitude 17, x=5986880.116585376, y=3323224.867115265 : 494.22522312335286,\n",
       "  point de latitude 43.69959510000001, de longitude 7.2592489999994285, d'altitude 17, x=5986825.604359345, y=3323322.607624295 : 343.67578960100235,\n",
       "  point de latitude 43.6995986, de longitude 7.259709099999401, d'altitude 17, x=5986795.168385977, y=3323377.2976276344 : 424.9621560246201}}"
      ]
     },
     "execution_count": 57,
     "metadata": {},
     "output_type": "execute_result"
    }
   ],
   "source": [
    "surface = 1  #récupérer la carte ensoleillement et altitude avec les points dessus \n",
    "(pas,pastemp) = (7000000,1)\n",
    "(xo,yo,to) = (3,2,0)\n",
    "vitesse = 20/3.6\n",
    "import numpy as np\n",
    "puiscarac = 140 #typiquement la puissance moyenne restituée par un panneau sur un triporteur\n",
    "cartalt = np.random.randint(50, size=(80,80))\n",
    "cartensol =np.random.randint(50, size=(80,80, 5))\n",
    "from pyproj import Transformer\n",
    "transformer_to_lamb= Transformer.from_crs(\"EPSG:4326\", \"EPSG:2154\", always_xy=True)\n",
    "transformer_to_lat_long=Transformer.from_crs( \"EPSG:2154\",\"EPSG:4326\", always_xy=True)\n",
    "L=[(43.7006972, 7.2587752),\n",
    " (43.7006331, 7.258767),\n",
    " (43.700484, 7.2587479),\n",
    " (43.7004658, 7.2587252),\n",
    " (43.7004336, 7.258622),\n",
    " (43.7004036, 7.2586002),\n",
    " (43.6996616, 7.2584458),\n",
    " (43.6995896, 7.2584263),\n",
    " (43.6995951, 7.259249),\n",
    " (43.6995986, 7.2597091),\n",
    " (43.700563, 7.2599293)]\n",
    "G=[transformer_to_lamb.transform(L[i][0],L[i][1]) for i in range(len(L))]\n",
    "class Point :\n",
    "    def __init__(self, lat, lon) :\n",
    "        self.latitude = lat\n",
    "        self.longitude = lon\n",
    "        self.id = router.findNode(lat, lon)\n",
    "        self.x = transformer_to_lamb.transform(lat,lon)[0]\n",
    "        self.y = transformer_to_lamb.transform(lat,lon)[1]\n",
    "        self.alti = cartalt[round((self.x-xo) / pas)][round((self.y-yo) / pas)]\n",
    "    \n",
    "    def __repr__(self) :\n",
    "        return (f\"point de latitude {self.latitude}, de longitude {self.longitude}, d'altitude {self.alti}, x={self.x}, y={self.y} \")\n",
    "\n",
    "\n",
    "def ensol(point, t) :\n",
    "    pix_x = round((point.x-xo) / pas)\n",
    "    pix_y = round((point.y-yo) / pas)\n",
    "    pix_t = round((t-to) / pastemp)\n",
    "    return cartensol[pix_x, pix_y, pix_t] * surface\n",
    "\n",
    "\n",
    "def distroute(point1, point2):\n",
    "    start = point1.id # Find start and end nodes\n",
    "    end = point2.id\n",
    "    status, route = router.doRoute(start, end)\n",
    "    l = 0\n",
    "    for i in range(len(route)-1):\n",
    "        point1 = Point(router.rnodes[route[i]][0],router.rnodes[route[i]][1]) \n",
    "        point2 = Point(router.rnodes[route[i+1]][0],router.rnodes[route[i+1]][1])\n",
    "        l += router.distance((point1.latitude, point1.longitude),(point2.latitude, point2.longitude))\n",
    "    return l * 1000\n",
    "\n",
    "\n",
    "def enersol(point1, point2, t):\n",
    "    start = point1.id # Find start and end nodes\n",
    "    end = point2.id\n",
    "    status, route = router.doRoute(start, end)\n",
    "    l=0\n",
    "    for i in range(len(route)-1) :\n",
    "        point1 = Point(router.rnodes[route[i]][0],router.rnodes[route[i]][1]) \n",
    "        point2 = Point(router.rnodes[route[i+1]][0],router.rnodes[route[i+1]][1])\n",
    "        l += router.distance((point1.latitude, point1.longitude),(point2.latitude, point2.longitude)) * ensol(point1, t) * vitesse * 1000\n",
    "    return l \n",
    "\n",
    "\n",
    "def deniv(point1, point2) :\n",
    "    start = point1.id # Find start and end nodes\n",
    "    end = point2.id\n",
    "    status, route = router.doRoute(start, end)\n",
    "    l = 0\n",
    "    for i in range(len(route)-1):\n",
    "        point1 = Point(router.rnodes[route[i]][0],router.rnodes[route[i]][1]) \n",
    "        point2 = Point(router.rnodes[route[i+1]][0],router.rnodes[route[i+1]][1])\n",
    "        l += max(0,point2.alti-point1.alti)\n",
    "    return l\n",
    "\n",
    "\n",
    "def graph(nodeslist, t, a, b, c) :#nodeslist est la liste des (x,y) des points de livraison \n",
    "    if not(( 0 <= a <= 1 ) and ( 0 <= b <= 1 ) and ( 0 <= c <= 1 )):\n",
    "        raise ValueError(\"Les paramètres sont entre 0 et 1\")\n",
    "    for i in range(len(nodeslist)) :\n",
    "        nodeslist[i] = Point(transformer_to_lat_long.transform(nodeslist[i][0],nodeslist[i][1])[0],transformer_to_lat_long.transform(nodeslist[i][0],nodeslist[i][1])[1])\n",
    "    def poids(point1,point2,t):\n",
    "        return a * distroute(point1, point2) + b * 100 * deniv(point1, point2) + c * vitesse / puiscarac * enersol(point1, point2, t)\n",
    "    graphe = {}\n",
    "    for s in nodeslist :\n",
    "        graphe[s] = {}\n",
    "        for j in nodeslist : \n",
    "            if j!=s:\n",
    "                graphe[s][j] = poids(s, j, t)\n",
    "    return graphe\n",
    "graph(G, 1, 0.5, 0.2, 0.7)\n",
    "#print(router.findNode(transformer_to_lat_long.transform(2.8,3.3)[0], transformer_to_lat_long.transform(2.8,3.3)[1]))\n",
    "#print(router.findNode(transformer_to_lat_long.transform(25,1.1)[0], transformer_to_lat_long.transform(25,1.1)[1]))"
   ]
  },
  {
   "cell_type": "code",
   "execution_count": 8,
   "metadata": {},
   "outputs": [
    {
     "name": "stdout",
     "output_type": "stream",
     "text": [
      "{1556416769: 2.5}\n"
     ]
    },
    {
     "ename": "TypeError",
     "evalue": "list indices must be integers or slices, not tuple",
     "output_type": "error",
     "traceback": [
      "\u001b[1;31m---------------------------------------------------------------------------\u001b[0m",
      "\u001b[1;31mTypeError\u001b[0m                                 Traceback (most recent call last)",
      "\u001b[1;32m<ipython-input-8-cce22260db24>\u001b[0m in \u001b[0;36m<module>\u001b[1;34m\u001b[0m\n\u001b[0;32m      1\u001b[0m \u001b[0mrouter\u001b[0m\u001b[1;33m.\u001b[0m\u001b[0mrnodes\u001b[0m\u001b[1;33m[\u001b[0m\u001b[1;36m311258859\u001b[0m\u001b[1;33m]\u001b[0m\u001b[1;33m\u001b[0m\u001b[1;33m\u001b[0m\u001b[0m\n\u001b[0;32m      2\u001b[0m \u001b[0mprint\u001b[0m\u001b[1;33m(\u001b[0m\u001b[0mrouter\u001b[0m\u001b[1;33m.\u001b[0m\u001b[0mrouting\u001b[0m\u001b[1;33m[\u001b[0m\u001b[1;36m273485738\u001b[0m\u001b[1;33m]\u001b[0m\u001b[1;33m)\u001b[0m\u001b[1;33m\u001b[0m\u001b[1;33m\u001b[0m\u001b[0m\n\u001b[1;32m----> 3\u001b[1;33m \u001b[0mprint\u001b[0m\u001b[1;33m(\u001b[0m\u001b[0mdistroute\u001b[0m\u001b[1;33m(\u001b[0m\u001b[0mPoint\u001b[0m\u001b[1;33m(\u001b[0m\u001b[0mrouter\u001b[0m\u001b[1;33m.\u001b[0m\u001b[0mrnodes\u001b[0m\u001b[1;33m[\u001b[0m\u001b[1;36m311258859\u001b[0m\u001b[1;33m]\u001b[0m\u001b[1;33m[\u001b[0m\u001b[1;36m0\u001b[0m\u001b[1;33m]\u001b[0m\u001b[1;33m,\u001b[0m\u001b[0mrouter\u001b[0m\u001b[1;33m.\u001b[0m\u001b[0mrnodes\u001b[0m\u001b[1;33m[\u001b[0m\u001b[1;36m311258859\u001b[0m\u001b[1;33m]\u001b[0m\u001b[1;33m[\u001b[0m\u001b[1;36m1\u001b[0m\u001b[1;33m]\u001b[0m\u001b[1;33m)\u001b[0m\u001b[1;33m,\u001b[0m\u001b[0mPoint\u001b[0m\u001b[1;33m(\u001b[0m\u001b[0mrouter\u001b[0m\u001b[1;33m.\u001b[0m\u001b[0mrnodes\u001b[0m\u001b[1;33m[\u001b[0m\u001b[1;36m564661114\u001b[0m\u001b[1;33m]\u001b[0m\u001b[1;33m[\u001b[0m\u001b[1;36m0\u001b[0m\u001b[1;33m]\u001b[0m\u001b[1;33m,\u001b[0m\u001b[0mrouter\u001b[0m\u001b[1;33m.\u001b[0m\u001b[0mrnodes\u001b[0m\u001b[1;33m[\u001b[0m\u001b[1;36m564661114\u001b[0m\u001b[1;33m]\u001b[0m\u001b[1;33m[\u001b[0m\u001b[1;36m1\u001b[0m\u001b[1;33m]\u001b[0m\u001b[1;33m)\u001b[0m\u001b[1;33m)\u001b[0m\u001b[1;33m)\u001b[0m\u001b[1;33m\u001b[0m\u001b[1;33m\u001b[0m\u001b[0m\n\u001b[0m\u001b[0;32m      4\u001b[0m \u001b[0mpoint1\u001b[0m\u001b[1;33m=\u001b[0m\u001b[0mPoint\u001b[0m\u001b[1;33m(\u001b[0m\u001b[1;36m2.0\u001b[0m\u001b[1;33m,\u001b[0m\u001b[1;36m3.2\u001b[0m\u001b[1;33m)\u001b[0m\u001b[1;33m\u001b[0m\u001b[1;33m\u001b[0m\u001b[0m\n\u001b[0;32m      5\u001b[0m \u001b[0mprint\u001b[0m\u001b[1;33m(\u001b[0m\u001b[0mpoint1\u001b[0m\u001b[1;33m)\u001b[0m\u001b[1;33m\u001b[0m\u001b[1;33m\u001b[0m\u001b[0m\n",
      "\u001b[1;32m<ipython-input-7-a3e8fcf303ed>\u001b[0m in \u001b[0;36m__init__\u001b[1;34m(self, lat, lon)\u001b[0m\n\u001b[0;32m     18\u001b[0m         \u001b[0mself\u001b[0m\u001b[1;33m.\u001b[0m\u001b[0mx\u001b[0m \u001b[1;33m=\u001b[0m \u001b[0mtransformer_to_lamb\u001b[0m\u001b[1;33m.\u001b[0m\u001b[0mtransform\u001b[0m\u001b[1;33m(\u001b[0m\u001b[0mlat\u001b[0m\u001b[1;33m,\u001b[0m\u001b[0mlon\u001b[0m\u001b[1;33m)\u001b[0m\u001b[1;33m[\u001b[0m\u001b[1;36m0\u001b[0m\u001b[1;33m]\u001b[0m\u001b[1;33m\u001b[0m\u001b[1;33m\u001b[0m\u001b[0m\n\u001b[0;32m     19\u001b[0m         \u001b[0mself\u001b[0m\u001b[1;33m.\u001b[0m\u001b[0my\u001b[0m \u001b[1;33m=\u001b[0m \u001b[0mtransformer_to_lamb\u001b[0m\u001b[1;33m.\u001b[0m\u001b[0mtransform\u001b[0m\u001b[1;33m(\u001b[0m\u001b[0mlat\u001b[0m\u001b[1;33m,\u001b[0m\u001b[0mlon\u001b[0m\u001b[1;33m)\u001b[0m\u001b[1;33m[\u001b[0m\u001b[1;36m1\u001b[0m\u001b[1;33m]\u001b[0m\u001b[1;33m\u001b[0m\u001b[1;33m\u001b[0m\u001b[0m\n\u001b[1;32m---> 20\u001b[1;33m         \u001b[0mself\u001b[0m\u001b[1;33m.\u001b[0m\u001b[0malti\u001b[0m \u001b[1;33m=\u001b[0m \u001b[0mcartalt\u001b[0m\u001b[1;33m[\u001b[0m\u001b[0mround\u001b[0m\u001b[1;33m(\u001b[0m\u001b[1;33m(\u001b[0m\u001b[0mself\u001b[0m\u001b[1;33m.\u001b[0m\u001b[0mx\u001b[0m\u001b[1;33m-\u001b[0m\u001b[0mxo\u001b[0m\u001b[1;33m)\u001b[0m \u001b[1;33m/\u001b[0m \u001b[0mpas\u001b[0m\u001b[1;33m)\u001b[0m\u001b[1;33m,\u001b[0m\u001b[0mround\u001b[0m\u001b[1;33m(\u001b[0m\u001b[1;33m(\u001b[0m\u001b[0mself\u001b[0m\u001b[1;33m.\u001b[0m\u001b[0my\u001b[0m\u001b[1;33m-\u001b[0m\u001b[0myo\u001b[0m\u001b[1;33m)\u001b[0m \u001b[1;33m/\u001b[0m \u001b[0mpas\u001b[0m\u001b[1;33m)\u001b[0m\u001b[1;33m]\u001b[0m\u001b[1;33m\u001b[0m\u001b[1;33m\u001b[0m\u001b[0m\n\u001b[0m\u001b[0;32m     21\u001b[0m \u001b[1;33m\u001b[0m\u001b[0m\n\u001b[0;32m     22\u001b[0m     \u001b[1;32mdef\u001b[0m \u001b[0m__repr__\u001b[0m\u001b[1;33m(\u001b[0m\u001b[0mself\u001b[0m\u001b[1;33m)\u001b[0m \u001b[1;33m:\u001b[0m\u001b[1;33m\u001b[0m\u001b[1;33m\u001b[0m\u001b[0m\n",
      "\u001b[1;31mTypeError\u001b[0m: list indices must be integers or slices, not tuple"
     ]
    }
   ],
   "source": [
    "router.rnodes[311258859]\n",
    "print(router.routing[273485738])\n",
    "print(distroute(Point(router.rnodes[311258859][0],router.rnodes[311258859][1]),Point(router.rnodes[564661114][0],router.rnodes[564661114][1])))\n",
    "point1=Point(2.0,3.2)\n",
    "print(point1)"
   ]
  },
  {
   "cell_type": "code",
   "execution_count": null,
   "metadata": {},
   "outputs": [],
   "source": [
    "from pyproj import Transformer\n",
    "transformer_to_lamb= Transformer.from_crs(\"EPSG:4326\", \"EPSG:2154\", always_xy=True)\n",
    "transformer_to_lat_long=Transformer.from_crs( \"EPSG:2154\",\"EPSG:4326\", always_xy=True)\n",
    "\n",
    "#La syntaxe à utiliser est :\n",
    "transformer_to_lamb.transform(7.26528, 43.70168)"
   ]
  }
 ],
 "metadata": {
  "kernelspec": {
   "display_name": "Python 3",
   "language": "python",
   "name": "python3"
  },
  "language_info": {
   "codemirror_mode": {
    "name": "ipython",
    "version": 3
   },
   "file_extension": ".py",
   "mimetype": "text/x-python",
   "name": "python",
   "nbconvert_exporter": "python",
   "pygments_lexer": "ipython3",
   "version": "3.7.3"
  }
 },
 "nbformat": 4,
 "nbformat_minor": 2
}
