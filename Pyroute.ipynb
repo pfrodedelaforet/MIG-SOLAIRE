{
 "cells": [
  {
   "cell_type": "code",
   "execution_count": 15,
   "metadata": {},
   "outputs": [],
   "source": [
    "from pyroutelib3 import Router, Datastore # Import the router\n",
    "router = Router(\"cycle\", \"C:/Users/pfrod/OneDrive/Documents/1A mines de paris/MIG/carte_test.osm\") # Initialise it\n"
   ]
  },
  {
   "cell_type": "code",
   "execution_count": null,
   "metadata": {},
   "outputs": [],
   "source": []
  },
  {
   "cell_type": "code",
   "execution_count": 16,
   "metadata": {},
   "outputs": [],
   "source": [
    "start = router.findNode(43.7006971, 7.2587751) # Find start and end nodes\n",
    "end = router.findNode(43.700561, 7.2599291)"
   ]
  },
  {
   "cell_type": "code",
   "execution_count": 17,
   "metadata": {},
   "outputs": [],
   "source": [
    "status, route = router.doRoute(start, end) # Find the route - a list of OSM nodes\n"
   ]
  },
  {
   "cell_type": "code",
   "execution_count": 18,
   "metadata": {},
   "outputs": [
    {
     "data": {
      "text/plain": [
       "'success'"
      ]
     },
     "execution_count": 18,
     "metadata": {},
     "output_type": "execute_result"
    }
   ],
   "source": [
    "status"
   ]
  },
  {
   "cell_type": "code",
   "execution_count": 19,
   "metadata": {},
   "outputs": [
    {
     "data": {
      "text/plain": [
       "[564661114,\n",
       " 3667118231,\n",
       " 273485738,\n",
       " 1556416769,\n",
       " 1556416745,\n",
       " 273485740,\n",
       " 1701090176,\n",
       " 311258859,\n",
       " 24343181,\n",
       " 311258915,\n",
       " 311258917]"
      ]
     },
     "execution_count": 19,
     "metadata": {},
     "output_type": "execute_result"
    }
   ],
   "source": [
    "route"
   ]
  },
  {
   "cell_type": "code",
   "execution_count": 20,
   "metadata": {},
   "outputs": [
    {
     "data": {
      "text/plain": [
       "[(43.7006972, 7.2587752),\n",
       " (43.7006331, 7.258767),\n",
       " (43.700484, 7.2587479),\n",
       " (43.7004658, 7.2587252),\n",
       " (43.7004336, 7.258622),\n",
       " (43.7004036, 7.2586002),\n",
       " (43.6996616, 7.2584458),\n",
       " (43.6995896, 7.2584263),\n",
       " (43.6995951, 7.259249),\n",
       " (43.6995986, 7.2597091),\n",
       " (43.700563, 7.2599293)]"
      ]
     },
     "execution_count": 20,
     "metadata": {},
     "output_type": "execute_result"
    }
   ],
   "source": [
    "list(map(router.nodeLatLon, route))"
   ]
  },
  {
   "cell_type": "code",
   "execution_count": 37,
   "metadata": {},
   "outputs": [],
   "source": [
    "surface = 1  #récupérer la carte ensoleillement et altitude avec les points dessus \n",
    "(pas,pastemp) = (1,1)\n",
    "(lato,lono,to) = (3,2,1)\n",
    "puiscarac = 140 #typiquement la puissance moyenne restituée par un panneau sur un triporteur\n",
    "\n",
    "class Point :\n",
    "    def __init__(self, lat, lon) :\n",
    "        self.latitude = lat\n",
    "        self.longitude = lon\n",
    "        self.id = router.findNode(lat, lon)\n",
    "        self.alti = cartalt[round((lat-lato) / pas),round((lon-lono) / pas)]\n",
    "        \n",
    "    def __repr__(self) :\n",
    "        return (f\"point de latitude {self.latitude}, de longitude {self.longitude} \")\n",
    "\n",
    "def ensol(point, t) :\n",
    "    pix_x = round((point.latitude-lato) / pas)\n",
    "    pix_y = round((point.longitude-lono) / pas)\n",
    "    pix_t = round((t-t0) / pastemp)\n",
    "    return cartensol[pix_x, pix_y, pix_t] * surface\n",
    "\n",
    "def distroute(point1,point2):\n",
    "    start = point1.id # Find start and end nodes\n",
    "    end = point2.id\n",
    "    status, route = router.doRoute(start, end)\n",
    "    l = 0\n",
    "    for i in range(len(route)-1):\n",
    "        point1 = Point(router.rnodes[route[i]][0],router.rnodes[route[i]][1]) \n",
    "        point2 = Point(router.rnodes[route[i+1]][0],router.rnodes[route[i+1]][1])\n",
    "        l += router.distance((point1.latitude, point1.longitude),(point2.latitude, point2.longitude))\n",
    "    return l * 1000\n",
    "\n",
    "def enersol(point1, point2, t):\n",
    "    start = point1.id # Find start and end nodes\n",
    "    end = point2.id\n",
    "    status, route = router.doRoute(start, end)\n",
    "    l=0\n",
    "    for i in range(len(route)-1) :\n",
    "        point1 = Point(router.rnodes[route[i]][0],router.rnodes[route[i]][1]) \n",
    "        point2 = Point(router.rnodes[route[i+1]][0],router.rnodes[route[i+1]][1])\n",
    "        l += router.distance((point1.latitude, point1.longitude),(point2.latitude, point2.longitude)) * ensol(point1, t) * vitesse * 1000\n",
    "    return l \n",
    "\n",
    "def deniv(point1, point2) :\n",
    "    start = point1.id # Find start and end nodes\n",
    "    end = point2.id\n",
    "    status, route = router.doRoute(start, end)\n",
    "    for i in range(len(route)-1):\n",
    "        point1 = Point(router.rnodes[route[i]][0],router.rnodes[route[i]][1]) \n",
    "        point2 = Point(router.rnodes[route[i+1]][0],router.rnodes[route[i+1]][1])\n",
    "        l += max(0,point2.alti-point1.alti)\n",
    "    return l\n",
    "\n",
    "def graph(nodeslist, t, a, b, c) :\n",
    "    if not(( 0 <= a <= 1 ) and ( 0 <= b <= 1 ) and ( 0 <= c <= 1 )):\n",
    "        raise ValueError(\"Les paramètres sont entre 0 et 1\")\n",
    "    for i in range(len(nodeslist)) :\n",
    "        nodeslist[i] = Point(router.rnodes[nodeslist[i]][0],router.rnodes[nodeslist[i]][1])\n",
    "    def poids(point1,point2,t):\n",
    "        return a * distance(point1, point2) + b * 100 * deniv(point1, point2) + c * vitesse / puiscarac * enersol(point1, point2, t)\n",
    "    graphe = {{}}\n",
    "    for s in nodeslist :\n",
    "        for j in nodeslist : \n",
    "            graphe[s.id][j.id] = poids(s, j, t)\n",
    "    return graph"
   ]
  },
  {
   "cell_type": "code",
   "execution_count": 22,
   "metadata": {},
   "outputs": [
    {
     "name": "stdout",
     "output_type": "stream",
     "text": [
      "{1556416769: 2.5}\n",
      "305.78780285703994\n",
      "point de latitude 2.0, de longitude 3.2\n"
     ]
    }
   ],
   "source": [
    "router.rnodes[311258859]\n",
    "print(router.routing[273485738])\n",
    "print(distroute(Point(router.rnodes[311258859][0],router.rnodes[311258859][1]),Point(router.rnodes[564661114][0],router.rnodes[564661114][1])))\n",
    "point1=Point(2.0,3.2)\n",
    "print(point1)"
   ]
  }
 ],
 "metadata": {
  "kernelspec": {
   "display_name": "Python 3",
   "language": "python",
   "name": "python3"
  },
  "language_info": {
   "codemirror_mode": {
    "name": "ipython",
    "version": 3
   },
   "file_extension": ".py",
   "mimetype": "text/x-python",
   "name": "python",
   "nbconvert_exporter": "python",
   "pygments_lexer": "ipython3",
   "version": "3.7.3"
  }
 },
 "nbformat": 4,
 "nbformat_minor": 2
}
